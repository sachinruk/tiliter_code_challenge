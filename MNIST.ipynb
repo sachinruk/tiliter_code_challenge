{
 "cells": [
  {
   "cell_type": "code",
   "execution_count": 1,
   "metadata": {},
   "outputs": [],
   "source": [
    "import cv2\n",
    "import matplotlib.pyplot as plt\n",
    "import numpy as np\n",
    "\n",
    "import fastai\n",
    "from fastai.vision import *\n",
    "\n",
    "%matplotlib inline"
   ]
  },
  {
   "cell_type": "markdown",
   "metadata": {},
   "source": [
    "## Exploration"
   ]
  },
  {
   "cell_type": "code",
   "execution_count": 2,
   "metadata": {},
   "outputs": [
    {
     "name": "stdout",
     "output_type": "stream",
     "text": [
      "(50, 50, 3)\n"
     ]
    },
    {
     "data": {
      "image/png": "[encoded data removed]",
      "text/plain": [
       "<Figure size 432x288 with 1 Axes>"
      ]
     },
     "metadata": {
      "needs_background": "light"
     },
     "output_type": "display_data"
    }
   ],
   "source": [
    "im = cv2.imread('data/data/custom_set/0/0 (15).jpg')\n",
    "print(im.shape)\n",
    "plt.imshow(im)\n",
    "plt.show()"
   ]
  },
  {
   "cell_type": "code",
   "execution_count": 3,
   "metadata": {},
   "outputs": [
    {
     "name": "stdout",
     "output_type": "stream",
     "text": [
      "(28, 28, 3)\n"
     ]
    },
    {
     "data": {
      "image/png": "[encoded data removed]",
      "text/plain": [
       "<Figure size 432x288 with 1 Axes>"
      ]
     },
     "metadata": {
      "needs_background": "light"
     },
     "output_type": "display_data"
    }
   ],
   "source": [
    "im = cv2.imread('data/data/mnist/testing/0/8808.png')\n",
    "print(im.shape)\n",
    "plt.imshow(im)\n",
    "plt.show()"
   ]
  },
  {
   "cell_type": "code",
   "execution_count": 4,
   "metadata": {},
   "outputs": [
    {
     "name": "stdout",
     "output_type": "stream",
     "text": [
      "(28, 28, 3)\n"
     ]
    },
    {
     "data": {
      "image/png": "[encoded data removed]",
      "text/plain": [
       "<Figure size 432x288 with 1 Axes>"
      ]
     },
     "metadata": {
      "needs_background": "light"
     },
     "output_type": "display_data"
    }
   ],
   "source": [
    "im = cv2.imread('data/data/mnist/training/8/12085.png')\n",
    "print(im.shape)\n",
    "plt.imshow(im)\n",
    "plt.show()"
   ]
  },
  {
   "cell_type": "markdown",
   "metadata": {},
   "source": [
    "## Data"
   ]
  },
  {
   "cell_type": "code",
   "execution_count": 5,
   "metadata": {},
   "outputs": [],
   "source": [
    "bs = 128"
   ]
  },
  {
   "cell_type": "code",
   "execution_count": 6,
   "metadata": {},
   "outputs": [],
   "source": [
    "train_path = './data/data/mnist/training/'\n",
    "train_db = (ImageList.from_folder(train_path, convert_mode='L')\n",
    "            .split_by_rand_pct(0.2)\n",
    "            .label_from_folder()\n",
    "            .databunch(bs=bs)\n",
    "     )"
   ]
  },
  {
   "cell_type": "markdown",
   "metadata": {},
   "source": [
    "## Model\n",
    "`conv_layer` is a convolution layer followed by relu and batchnorm."
   ]
  },
  {
   "cell_type": "code",
   "execution_count": 7,
   "metadata": {},
   "outputs": [],
   "source": [
    "model = nn.Sequential(\n",
    "    conv_layer(1, 4, stride=2), # size 14x14\n",
    "    conv_layer(4, 8, stride=2), # size 7x7\n",
    "    conv_layer(8, 16, stride=2), # size 4x4\n",
    "    conv_layer(16, 32, stride=2), # size 2x2\n",
    "    conv_layer(32, 10, stride=2), # size 1x1\n",
    "    Flatten()\n",
    ")"
   ]
  },
  {
   "cell_type": "markdown",
   "metadata": {},
   "source": [
    "## Learner"
   ]
  },
  {
   "cell_type": "code",
   "execution_count": 8,
   "metadata": {},
   "outputs": [],
   "source": [
    "learn = Learner(train_db, \n",
    "                model, \n",
    "                loss_func=nn.CrossEntropyLoss(), \n",
    "                metrics=accuracy)"
   ]
  },
  {
   "cell_type": "code",
   "execution_count": 43,
   "metadata": {},
   "outputs": [
    {
     "data": {
      "text/plain": [
       "Sequential\n",
       "======================================================================\n",
       "Layer (type)         Output Shape         Param #    Trainable \n",
       "======================================================================\n",
       "Conv2d               [4, 14, 14]          36         True      \n",
       "______________________________________________________________________\n",
       "ReLU                 [4, 14, 14]          0          False     \n",
       "______________________________________________________________________\n",
       "BatchNorm2d          [4, 14, 14]          8          True      \n",
       "______________________________________________________________________\n",
       "Conv2d               [8, 7, 7]            288        True      \n",
       "______________________________________________________________________\n",
       "ReLU                 [8, 7, 7]            0          False     \n",
       "______________________________________________________________________\n",
       "BatchNorm2d          [8, 7, 7]            16         True      \n",
       "______________________________________________________________________\n",
       "Conv2d               [16, 4, 4]           1,152      True      \n",
       "______________________________________________________________________\n",
       "ReLU                 [16, 4, 4]           0          False     \n",
       "______________________________________________________________________\n",
       "BatchNorm2d          [16, 4, 4]           32         True      \n",
       "______________________________________________________________________\n",
       "Conv2d               [32, 2, 2]           4,608      True      \n",
       "______________________________________________________________________\n",
       "ReLU                 [32, 2, 2]           0          False     \n",
       "______________________________________________________________________\n",
       "BatchNorm2d          [32, 2, 2]           64         True      \n",
       "______________________________________________________________________\n",
       "Conv2d               [10, 1, 1]           2,880      True      \n",
       "______________________________________________________________________\n",
       "ReLU                 [10, 1, 1]           0          False     \n",
       "______________________________________________________________________\n",
       "BatchNorm2d          [10, 1, 1]           20         True      \n",
       "______________________________________________________________________\n",
       "Flatten              [10]                 0          False     \n",
       "______________________________________________________________________\n",
       "\n",
       "Total params: 9,104\n",
       "Total trainable params: 9,104\n",
       "Total non-trainable params: 0\n",
       "Optimized with 'torch.optim.adam.Adam', betas=(0.9, 0.99)\n",
       "Using true weight decay as discussed in https://www.fast.ai/2018/07/02/adam-weight-decay/ \n",
       "Loss function : CrossEntropyLoss\n",
       "======================================================================\n",
       "Callbacks functions applied "
      ]
     },
     "execution_count": 43,
     "metadata": {},
     "output_type": "execute_result"
    }
   ],
   "source": [
    "learn.summary()"
   ]
  },
  {
   "cell_type": "markdown",
   "metadata": {},
   "source": [
    "## Train"
   ]
  },
  {
   "cell_type": "code",
   "execution_count": 9,
   "metadata": {},
   "outputs": [
    {
     "data": {
      "text/html": [],
      "text/plain": [
       "<IPython.core.display.HTML object>"
      ]
     },
     "metadata": {},
     "output_type": "display_data"
    },
    {
     "name": "stdout",
     "output_type": "stream",
     "text": [
      "LR Finder is complete, type {learner_name}.recorder.plot() to see the graph.\n"
     ]
    },
    {
     "data": {
      "image/png": "[encoded data removed]",
      "text/plain": [
       "<Figure size 432x288 with 1 Axes>"
      ]
     },
     "metadata": {
      "needs_background": "light"
     },
     "output_type": "display_data"
    }
   ],
   "source": [
    "learn.lr_find()\n",
    "learn.recorder.plot()"
   ]
  },
  {
   "cell_type": "code",
   "execution_count": 10,
   "metadata": {},
   "outputs": [
    {
     "data": {
      "text/html": [
       "<table border=\"1\" class=\"dataframe\">\n",
       "  <thead>\n",
       "    <tr style=\"text-align: left;\">\n",
       "      <th>epoch</th>\n",
       "      <th>train_loss</th>\n",
       "      <th>valid_loss</th>\n",
       "      <th>accuracy</th>\n",
       "      <th>time</th>\n",
       "    </tr>\n",
       "  </thead>\n",
       "  <tbody>\n",
       "    <tr>\n",
       "      <td>0</td>\n",
       "      <td>0.179479</td>\n",
       "      <td>0.163012</td>\n",
       "      <td>0.949167</td>\n",
       "      <td>00:11</td>\n",
       "    </tr>\n",
       "    <tr>\n",
       "      <td>1</td>\n",
       "      <td>0.126966</td>\n",
       "      <td>0.132880</td>\n",
       "      <td>0.958667</td>\n",
       "      <td>00:09</td>\n",
       "    </tr>\n",
       "    <tr>\n",
       "      <td>2</td>\n",
       "      <td>0.086229</td>\n",
       "      <td>0.109814</td>\n",
       "      <td>0.966500</td>\n",
       "      <td>00:10</td>\n",
       "    </tr>\n",
       "    <tr>\n",
       "      <td>3</td>\n",
       "      <td>0.054650</td>\n",
       "      <td>0.055895</td>\n",
       "      <td>0.983167</td>\n",
       "      <td>00:10</td>\n",
       "    </tr>\n",
       "    <tr>\n",
       "      <td>4</td>\n",
       "      <td>0.037726</td>\n",
       "      <td>0.046190</td>\n",
       "      <td>0.986250</td>\n",
       "      <td>00:11</td>\n",
       "    </tr>\n",
       "  </tbody>\n",
       "</table>"
      ],
      "text/plain": [
       "<IPython.core.display.HTML object>"
      ]
     },
     "metadata": {},
     "output_type": "display_data"
    }
   ],
   "source": [
    "learn.fit_one_cycle(5, max_lr=0.1)"
   ]
  },
  {
   "cell_type": "markdown",
   "metadata": {},
   "source": [
    "## Test on test set"
   ]
  },
  {
   "cell_type": "code",
   "execution_count": 11,
   "metadata": {},
   "outputs": [],
   "source": [
    "test_path = './data/data/mnist/testing/'\n",
    "test_db = (ImageList.from_folder(test_path, convert_mode='L')\n",
    "           .split_none()\n",
    "           .label_from_folder()\n",
    "           .databunch(bs=bs)\n",
    "          )"
   ]
  },
  {
   "cell_type": "code",
   "execution_count": 12,
   "metadata": {},
   "outputs": [
    {
     "name": "stdout",
     "output_type": "stream",
     "text": [
      "Accuracy on test set is 0.9866\n"
     ]
    }
   ],
   "source": [
    "correct = 0\n",
    "for x,y in test_db.train_dl:\n",
    "    y_pred = learn.model(x).argmax(dim=-1)\n",
    "    correct += (y_pred == y).sum()\n",
    "\n",
    "acc = int(correct)/ len(test_db.train_ds)\n",
    "print(f'Accuracy on test set is {acc}')"
   ]
  },
  {
   "cell_type": "markdown",
   "metadata": {},
   "source": [
    "## Accuracy on custom set:"
   ]
  },
  {
   "cell_type": "code",
   "execution_count": 37,
   "metadata": {},
   "outputs": [],
   "source": [
    "def _invert_im(x):\n",
    "    return 1 - x\n",
    "invert_im = TfmPixel(_invert_im, order=0)\n",
    "tfm_list = [[invert_im()],[]]"
   ]
  },
  {
   "cell_type": "code",
   "execution_count": 38,
   "metadata": {},
   "outputs": [],
   "source": [
    "test_path2 = './data/data/custom_set/'\n",
    "test_db2 = (ImageList.from_folder(test_path2, convert_mode='L')\n",
    "           .split_none()\n",
    "           .label_from_folder()\n",
    "           .transform(tfms=tfm_list, size=28, resize_method=ResizeMethod.SQUISH)\n",
    "           .databunch(bs=578)\n",
    "          )"
   ]
  },
  {
   "cell_type": "code",
   "execution_count": 39,
   "metadata": {},
   "outputs": [
    {
     "name": "stdout",
     "output_type": "stream",
     "text": [
      "Accuracy on test set is 0.8339100346020761\n"
     ]
    }
   ],
   "source": [
    "correct = 0\n",
    "for x,y in test_db2.train_dl:\n",
    "    y_pred = learn.model(x).argmax(dim=-1)\n",
    "    correct += (y_pred == y).sum()\n",
    "\n",
    "acc = int(correct)/ len(test_db2.train_ds)\n",
    "print(f'Accuracy on test set is {acc}')\n"
   ]
  },
  {
   "cell_type": "markdown",
   "metadata": {},
   "source": [
    "## Save Model"
   ]
  },
  {
   "cell_type": "code",
   "execution_count": 41,
   "metadata": {},
   "outputs": [
    {
     "data": {
      "text/plain": [
       "PosixPath('data/data/mnist/training/models/mnist.pth')"
      ]
     },
     "execution_count": 41,
     "metadata": {},
     "output_type": "execute_result"
    }
   ],
   "source": [
    "learn.save('mnist', return_path=True)"
   ]
  },
  {
   "cell_type": "code",
   "execution_count": null,
   "metadata": {},
   "outputs": [],
   "source": []
  }
 ],
 "metadata": {
  "kernelspec": {
   "display_name": "Python 3",
   "language": "python",
   "name": "python3"
  },
  "language_info": {
   "codemirror_mode": {
    "name": "ipython",
    "version": 3
   },
   "file_extension": ".py",
   "mimetype": "text/x-python",
   "name": "python",
   "nbconvert_exporter": "python",
   "pygments_lexer": "ipython3",
   "version": "3.7.4"
  }
 },
 "nbformat": 4,
 "nbformat_minor": 2
}
